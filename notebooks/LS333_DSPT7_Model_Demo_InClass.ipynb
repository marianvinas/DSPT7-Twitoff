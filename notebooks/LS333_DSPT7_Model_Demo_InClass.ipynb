{
 "cells": [
  {
   "cell_type": "markdown",
   "metadata": {},
   "source": [
    "### DSPT6 - Adding Data Science to a Web Application\n",
    "\n",
    "The purpose of this notebook is to demonstrate:\n",
    "- Simple online analysis of data from a user of the Twitoff app or an API\n",
    "- Train a more complicated offline model, and serialize the results for online use"
   ]
  },
  {
   "cell_type": "code",
   "execution_count": 1,
   "metadata": {},
   "outputs": [],
   "source": [
    "import sqlite3\n",
    "import pickle\n",
    "import pandas as pd"
   ]
  },
  {
   "cell_type": "code",
   "execution_count": 2,
   "metadata": {},
   "outputs": [],
   "source": [
    "# Connect to sqlite database\n",
    "conn = sqlite3.connect('C:\\\\Users\\\\bruno\\\\Desktop\\\\twitoff.sqlite3')"
   ]
  },
  {
   "cell_type": "code",
   "execution_count": 4,
   "metadata": {
    "colab": {},
    "colab_type": "code",
    "id": "vS_A9hjG1HGD"
   },
   "outputs": [],
   "source": [
    "def get_data(query, conn):\n",
    "    '''Function to get data from SQLite DB'''\n",
    "    \n",
    "    cursor = conn.cursor()\n",
    "    result = cursor.execute(query).fetchall()\n",
    "\n",
    "    # Get columns from cursor object\n",
    "    columns = list(map(lambda x: x[0], cursor.description))\n",
    "\n",
    "    # Assign to DataFrame\n",
    "    df = pd.DataFrame(data=result, columns=columns)\n",
    "    return df"
   ]
  },
  {
   "cell_type": "code",
   "execution_count": 9,
   "metadata": {
    "colab": {},
    "colab_type": "code",
    "id": "pVapHGy7gEFx",
    "tags": []
   },
   "outputs": [
    {
     "output_type": "stream",
     "name": "stdout",
     "text": "(12291, 5)\n"
    },
    {
     "output_type": "execute_result",
     "data": {
      "text/plain": "            id                                              tweet  \\\n0  23048456524  Worth a read, I liked this Economist article a...   \n1  23048600560  Another interesting article, this one on a pro...   \n2  24514937071  The Guardian has partnered with the foundation...   \n\n                                           embedding   username  \\\n0  b&#39;\\x80\\x04\\x95\\xee\\x11\\x00\\x00\\x00\\x00\\x00\\x00...  billgates   \n1  b&#39;\\x80\\x04\\x95\\xee\\x11\\x00\\x00\\x00\\x00\\x00\\x00...  billgates   \n2  b&#39;\\x80\\x04\\x95\\xee\\x11\\x00\\x00\\x00\\x00\\x00\\x00...  billgates   \n\n                                   embedding_decoded  \n0  [-0.07537176, 0.27606362, -0.0547825, 0.014415...  \n1  [-0.14114963, 0.17626844, -0.18227336, 0.10240...  \n2  [-0.002723366, 0.10334747, -0.100752264, 0.025...  ",
      "text/html": "<div>\n<style scoped>\n    .dataframe tbody tr th:only-of-type {\n        vertical-align: middle;\n    }\n\n    .dataframe tbody tr th {\n        vertical-align: top;\n    }\n\n    .dataframe thead th {\n        text-align: right;\n    }\n</style>\n<table border=\"1\" class=\"dataframe\">\n  <thead>\n    <tr style=\"text-align: right;\">\n      <th></th>\n      <th>id</th>\n      <th>tweet</th>\n      <th>embedding</th>\n      <th>username</th>\n      <th>embedding_decoded</th>\n    </tr>\n  </thead>\n  <tbody>\n    <tr>\n      <th>0</th>\n      <td>23048456524</td>\n      <td>Worth a read, I liked this Economist article a...</td>\n      <td>b'\\x80\\x04\\x95\\xee\\x11\\x00\\x00\\x00\\x00\\x00\\x00...</td>\n      <td>billgates</td>\n      <td>[-0.07537176, 0.27606362, -0.0547825, 0.014415...</td>\n    </tr>\n    <tr>\n      <th>1</th>\n      <td>23048600560</td>\n      <td>Another interesting article, this one on a pro...</td>\n      <td>b'\\x80\\x04\\x95\\xee\\x11\\x00\\x00\\x00\\x00\\x00\\x00...</td>\n      <td>billgates</td>\n      <td>[-0.14114963, 0.17626844, -0.18227336, 0.10240...</td>\n    </tr>\n    <tr>\n      <th>2</th>\n      <td>24514937071</td>\n      <td>The Guardian has partnered with the foundation...</td>\n      <td>b'\\x80\\x04\\x95\\xee\\x11\\x00\\x00\\x00\\x00\\x00\\x00...</td>\n      <td>billgates</td>\n      <td>[-0.002723366, 0.10334747, -0.100752264, 0.025...</td>\n    </tr>\n  </tbody>\n</table>\n</div>"
     },
     "metadata": {},
     "execution_count": 9
    }
   ],
   "source": [
    "import pickle\n",
    "\n",
    "sql = '''\n",
    "SELECT \n",
    "\ttweet.id,\n",
    "\ttweet.tweet, \n",
    "\ttweet.embedding,\n",
    "\tuser.username\n",
    "FROM tweet\n",
    "JOIN user on tweet.user_id = user.id;\n",
    "'''\n",
    "\n",
    "df = get_data(sql, conn)\n",
    "df['embedding_decoded'] = df.embedding.apply(lambda x: pickle.loads(x))\n",
    "print(df.shape)\n",
    "df.head(3)"
   ]
  },
  {
   "cell_type": "code",
   "execution_count": 10,
   "metadata": {},
   "outputs": [
    {
     "output_type": "execute_result",
     "data": {
      "text/plain": "billgates      2889\nbarackobama    2766\njimmyfallon    2353\nKingJames      2193\nnasa           1693\nelonmusk        397\nName: username, dtype: int64"
     },
     "metadata": {},
     "execution_count": 10
    }
   ],
   "source": [
    "df.username.value_counts()"
   ]
  },
  {
   "cell_type": "code",
   "execution_count": 13,
   "metadata": {
    "tags": []
   },
   "outputs": [
    {
     "output_type": "stream",
     "name": "stdout",
     "text": "(5119, 300) (5119,)\n"
    }
   ],
   "source": [
    "import numpy as np\n",
    "\n",
    "user1_embeddings = df.embedding_decoded[df.username == 'barackobama']\n",
    "user2_embeddings = df.embedding_decoded[df.username == 'jimmyfallon']\n",
    "embeddings = pd.concat([user1_embeddings, user2_embeddings])\n",
    "\n",
    "embeddings_df = pd.DataFrame(embeddings.to_list(),\n",
    "                             columns=[f'dom{i}' for i in range(300)])\n",
    "labels = np.concatenate([np.ones(len(user1_embeddings)),\n",
    "                         np.zeros(len(user2_embeddings))])\n",
    "print(embeddings_df.shape, labels.shape)"
   ]
  },
  {
   "cell_type": "code",
   "execution_count": null,
   "metadata": {},
   "outputs": [],
   "source": [
    "from sklearn.model_selection import train_test_split\n",
    "\n",
    "X_train, X_test, y_train, y_test"
   ]
  }
 ],
 "metadata": {
  "colab": {
   "collapsed_sections": [],
   "name": "DSPT6_APIs_Demo.ipynb",
   "provenance": []
  },
  "kernelspec": {
   "display_name": "Python 3",
   "language": "python",
   "name": "python3"
  },
  "language_info": {
   "codemirror_mode": {
    "name": "ipython",
    "version": 3
   },
   "file_extension": ".py",
   "mimetype": "text/x-python",
   "name": "python",
   "nbconvert_exporter": "python",
   "pygments_lexer": "ipython3",
   "version": "3.7.5-final"
  }
 },
 "nbformat": 4,
 "nbformat_minor": 4
}